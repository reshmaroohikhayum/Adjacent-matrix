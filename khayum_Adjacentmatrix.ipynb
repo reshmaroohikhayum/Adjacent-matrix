{
  "cells": [
    {
      "cell_type": "code",
      "execution_count": 1,
      "metadata": {
        "id": "zTt0psAfV0JP"
      },
      "outputs": [],
      "source": [
        "#Author : Reshma Roohi Khayum\n",
        "#Date : 2/30/2023\n",
        "#Description\n",
        "#Revision History\n",
        "#Name     Date      Description\n",
        "#rrk      2/05      Basic Python "
      ]
    },
    {
      "cell_type": "markdown",
      "metadata": {
        "id": "VHUJwIWM1iOw"
      },
      "source": [
        "[link text](https://)"
      ]
    },
    {
      "cell_type": "code",
      "execution_count": 2,
      "metadata": {
        "id": "-bVSjWAR1icN"
      },
      "outputs": [],
      "source": [
        "import pandas as pd"
      ]
    },
    {
      "cell_type": "code",
      "execution_count": 3,
      "metadata": {
        "colab": {
          "base_uri": "https://localhost:8080/"
        },
        "id": "wgo_Ydou4kJJ",
        "outputId": "e77169e7-8406-49c4-9b02-cbe19c2e21d6"
      },
      "outputs": [
        {
          "name": "stdout",
          "output_type": "stream",
          "text": [
            "  From To  Distance\n",
            "0    a  b       0.6\n",
            "1    a  c       0.2\n",
            "2    c  d       0.1\n",
            "3    c  e       0.7\n",
            "4    c  f       0.9\n",
            "5    a  d       0.3\n",
            "6    f  g       0.4\n",
            "     a    b    c    d    e    f    g\n",
            "a  0.0  0.6  0.2  0.3  0.0  0.0  0.0\n",
            "b  0.6  0.0  0.0  0.0  0.0  0.0  0.0\n",
            "c  0.2  0.0  0.0  0.1  0.7  0.9  0.0\n",
            "d  0.3  0.0  0.1  0.0  0.0  0.0  0.0\n",
            "e  0.0  0.0  0.7  0.0  0.0  0.0  0.0\n",
            "f  0.0  0.0  0.9  0.0  0.0  0.0  0.4\n",
            "g  0.0  0.0  0.0  0.0  0.0  0.4  0.0\n"
          ]
        }
      ],
      "source": [
        "def main():\n",
        "  city_graph = {'From': ['a', 'a', 'c', 'c', 'c', 'a', 'f'],\n",
        "              'To': ['b', 'c', 'd', 'e', 'f', 'd', 'g'],\n",
        "              'Distance': [0.6, 0.2, 0.1, 0.7, 0.9, 0.3, 0.4]}\n",
        "  df = pd.DataFrame(city_graph)\n",
        "\n",
        "  cities = set(df['From'].tolist() + df['To'].tolist())\n",
        "  cities = list(cities)\n",
        "  cities.sort()\n",
        "  adj_matrix = pd.DataFrame(0.0, index=cities, columns=cities)\n",
        "  for i, row in df.iterrows():\n",
        "      adj_matrix.at[row['From'], row['To']] = row['Distance']\n",
        "      adj_matrix.at[row['To'], row['From']] = row['Distance']\n",
        "  print(df)\n",
        "  print(adj_matrix)\n",
        "\n",
        "main()"
      ]
    },
    {
      "cell_type": "markdown",
      "metadata": {
        "id": "HZ06do0e8dEl"
      },
      "source": [
        "# New Section"
      ]
    }
  ],
  "metadata": {
    "colab": {
      "provenance": []
    },
    "kernelspec": {
      "display_name": "Python 3",
      "name": "python3"
    },
    "language_info": {
      "name": "python"
    }
  },
  "nbformat": 4,
  "nbformat_minor": 0
}
